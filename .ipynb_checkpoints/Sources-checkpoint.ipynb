{
 "cells": [
  {
   "cell_type": "markdown",
   "metadata": {},
   "source": [
    "## Data Resources\n",
    "\n",
    "1. [Sports Reference](https://www.sports-reference.com)   \n",
    "    1. [CFB School Index](https://www.sports-reference.com/cfb/schools/)\n",
    "        1. [win-loss-tie data](https://github.com/BlakeWallace/Project_Pigskin/blob/master/win_loss_tie_data.ipynb)  \n",
    "    1. [Sports Reference's Notre Dame Historical Data](https://www.sports-reference.com/cfb/schools/notre-dame/)  \n",
    "        1. [Exploring_Notre_Dame_historical_stats](https://github.com/BlakeWallace/Project_Pigskin/tree/master/Notre_Dame_Football/Exploring_Notre_Dame_historical_stats.ipynb)  "
   ]
  },
  {
   "cell_type": "code",
   "execution_count": null,
   "metadata": {},
   "outputs": [],
   "source": []
  }
 ],
 "metadata": {
  "kernelspec": {
   "display_name": "Python 3",
   "language": "python",
   "name": "python3"
  },
  "language_info": {
   "codemirror_mode": {
    "name": "ipython",
    "version": 3
   },
   "file_extension": ".py",
   "mimetype": "text/x-python",
   "name": "python",
   "nbconvert_exporter": "python",
   "pygments_lexer": "ipython3",
   "version": "3.6.8"
  }
 },
 "nbformat": 4,
 "nbformat_minor": 2
}
