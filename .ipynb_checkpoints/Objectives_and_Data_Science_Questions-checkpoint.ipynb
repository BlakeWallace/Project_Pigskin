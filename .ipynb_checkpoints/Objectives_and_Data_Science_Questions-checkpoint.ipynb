{
 "cells": [
  {
   "cell_type": "markdown",
   "metadata": {},
   "source": [
    "## Current Tasks\n",
    "\n",
    "1. Find a list of all division 1 college football teams.\n",
    "1. Obtain basic lifetime stats for each team in the list of Division 1 teams.  (Basic stats include: win-loss-tie record or win percentage, average offensive yards per game, average points per game, average number of touchdowns per game, average number of defensive tackles per game, average number of possessions per game, average number of fieldgoals per game, average number of points allowed, average number of yards allowed, etc.)\n",
    "1. Obtain the same stats as above, but for only the last 7 years."
   ]
  },
  {
   "cell_type": "markdown",
   "metadata": {},
   "source": [
    "### Project Objectives\n",
    "\n",
    "1. Construct any model that will predict with at least 50% accuracy the winner in any division 1 football game given current data about the teams.  "
   ]
  },
  {
   "cell_type": "markdown",
   "metadata": {},
   "source": [
    "### Data Scinece Questions\n",
    "\n",
    "1. Can a model be constructed that picks the winner with at least 50% accuracy? "
   ]
  },
  {
   "cell_type": "code",
   "execution_count": null,
   "metadata": {},
   "outputs": [],
   "source": []
  }
 ],
 "metadata": {
  "kernelspec": {
   "display_name": "Python 3",
   "language": "python",
   "name": "python3"
  },
  "language_info": {
   "codemirror_mode": {
    "name": "ipython",
    "version": 3
   },
   "file_extension": ".py",
   "mimetype": "text/x-python",
   "name": "python",
   "nbconvert_exporter": "python",
   "pygments_lexer": "ipython3",
   "version": "3.6.8"
  }
 },
 "nbformat": 4,
 "nbformat_minor": 2
}
