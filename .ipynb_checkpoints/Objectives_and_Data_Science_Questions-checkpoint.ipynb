{
 "cells": [
  {
   "cell_type": "markdown",
   "metadata": {},
   "source": [
    "## Current Tasks\n",
    "\n",
    "1. Find a list of all division 1 college football teams.\n",
    "1. Obtain basic lifetime stats for each team in the list of Division 1 teams.  (Basic stats include: win-loss-tie record or win percentage, average offensive yards per game, average points per game, average number of touchdowns per game, average number of defensive tackles per game, average number of possessions per game, average number of fieldgoals per game, etc.)\n",
    "1. Obtain the same stats as above, but for only the last 7 years."
   ]
  },
  {
   "cell_type": "markdown",
   "metadata": {},
   "source": [
    "### Project Objectives\n",
    "\n",
    "   1. Construct a model using as much data as can be found that will predict whether Notre Dame will win there next game.   \n",
    "   2. Construct a model that will determine a points spread between Notre Dame and its next opponant.   \n",
    "   3. Construct an ensemble model using a gradient boosted random forrest that will predict a winner in a single game given current data about the teams, and record the model's accuracy.   \n",
    "   4. Construct any model that will predict with 95% accuracy a single winner in any game given current data about the teams.  "
   ]
  },
  {
   "cell_type": "markdown",
   "metadata": {},
   "source": [
    "### Data Scinece Questions\n",
    "\n",
    "1. Can a model be constructed that predicts the number of wins a college football team will have in the 2019 season?   \n",
    "2. Can a model be constructed that will predict with 90% accuracy the likelihood that Notre Dame will win the National Championship given there current position during the 2019 season?   "
   ]
  }
 ],
 "metadata": {
  "kernelspec": {
   "display_name": "Python 3",
   "language": "python",
   "name": "python3"
  },
  "language_info": {
   "codemirror_mode": {
    "name": "ipython",
    "version": 3
   },
   "file_extension": ".py",
   "mimetype": "text/x-python",
   "name": "python",
   "nbconvert_exporter": "python",
   "pygments_lexer": "ipython3",
   "version": "3.6.8"
  }
 },
 "nbformat": 4,
 "nbformat_minor": 2
}
