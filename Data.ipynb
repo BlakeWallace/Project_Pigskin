{
 "cells": [
  {
   "cell_type": "markdown",
   "metadata": {},
   "source": [
    "# Notre Dame\n",
    "\n",
    "<a id='SR_Notre_Dame_Historical_Data'></a>\n",
    "### Historical Data \n",
    "\n",
    "*Resource* - [Sports Reference](https://www.sports-reference.com/cfb/schools/notre-dame/)\n",
    "        \n",
    "1. **Year** - Year of Season\n",
    "1. **Conf** - Conference\n",
    "1. **W** - Wins\n",
    "1. **L** - Losses\n",
    "1. **T** - Ties\n",
    "1. **Pct** - Win-Loss Percentage\n",
    "1. **SRS** - Simple Rating System\n",
    "1. **SOS** - Strength of Schedule\n",
    "1. **AP Pre** - Rank in AP Preseason\n",
    "1. **AP High** - Highest Rank in AP Poll During Season\n",
    "1. **AP Post** - Rank in Final AP Poll\n",
    "1. **Coach(es)** - Head Coach\n",
    "1. **Bowl** - Bowo Game with outcome\n",
    "1. **Notes** - Any specific notes regarding the team stats"
   ]
  },
  {
   "cell_type": "code",
   "execution_count": null,
   "metadata": {},
   "outputs": [],
   "source": []
  }
 ],
 "metadata": {
  "kernelspec": {
   "display_name": "Python 3",
   "language": "python",
   "name": "python3"
  },
  "language_info": {
   "codemirror_mode": {
    "name": "ipython",
    "version": 3
   },
   "file_extension": ".py",
   "mimetype": "text/x-python",
   "name": "python",
   "nbconvert_exporter": "python",
   "pygments_lexer": "ipython3",
   "version": "3.6.8"
  }
 },
 "nbformat": 4,
 "nbformat_minor": 2
}
